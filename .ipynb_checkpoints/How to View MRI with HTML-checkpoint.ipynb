{
 "cells": [
  {
   "cell_type": "markdown",
   "id": "nearby-creation",
   "metadata": {},
   "source": [
    "#### Method 1: Nilearn"
   ]
  },
  {
   "cell_type": "code",
   "execution_count": 7,
   "id": "confused-austin",
   "metadata": {},
   "outputs": [],
   "source": [
    "from nilearn import plotting\n",
    "import matplotlib.pyplot as plt"
   ]
  },
  {
   "cell_type": "code",
   "execution_count": 14,
   "id": "acute-yield",
   "metadata": {},
   "outputs": [],
   "source": [
    "# plotting anatomical images \n",
    "display=plotting.view_img('./data/sub-08_T2w.nii.gz') \n",
    "#display.add_overlay('./data/seg_08_T2w.nii.gz')\n",
    "                    "
   ]
  },
  {
   "cell_type": "markdown",
   "id": "engaged-northwest",
   "metadata": {},
   "source": [
    "####  Method 2: simple ITK "
   ]
  },
  {
   "cell_type": "markdown",
   "id": "rolled-external",
   "metadata": {},
   "source": [
    "#### Method 3: ANTsPy"
   ]
  },
  {
   "cell_type": "code",
   "execution_count": null,
   "id": "stunning-finnish",
   "metadata": {},
   "outputs": [],
   "source": []
  }
 ],
 "metadata": {
  "kernelspec": {
   "display_name": "Python 3",
   "language": "python",
   "name": "python3"
  },
  "language_info": {
   "codemirror_mode": {
    "name": "ipython",
    "version": 3
   },
   "file_extension": ".py",
   "mimetype": "text/x-python",
   "name": "python",
   "nbconvert_exporter": "python",
   "pygments_lexer": "ipython3",
   "version": "3.8.5"
  }
 },
 "nbformat": 4,
 "nbformat_minor": 5
}
